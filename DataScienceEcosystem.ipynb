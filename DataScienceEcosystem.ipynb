{
 "cells": [
  {
   "cell_type": "markdown",
   "id": "ed5d7704-80b3-437e-9bdd-7226d180ca7f",
   "metadata": {},
   "source": [
    "# Data Science Tools and Ecosystem"
   ]
  },
  {
   "cell_type": "markdown",
   "id": "ba2a9807-ec27-48b2-ab76-5d07018a30fa",
   "metadata": {},
   "source": [
    "## Author\n",
    "Shinde Pranav Balaso"
   ]
  },
  {
   "cell_type": "markdown",
   "id": "3e0d3c1b-391d-49df-bfda-1d1197ac154b",
   "metadata": {
    "tags": []
   },
   "source": [
    "In this notebook, Data Science Tools and Ecosystem are summarized."
   ]
  },
  {
   "cell_type": "markdown",
   "id": "c932671d-1dd0-4f18-a4bb-a03b9c3e2392",
   "metadata": {
    "tags": []
   },
   "source": [
    "**Objectives:**\n",
    "- List popular languages for Data Science\n",
    "- List libraries used by Data Scientists\n",
    "- Explore open-source development environments\n",
    "- Understand basic arithmetic operations in \n",
    "- Convert time units using Python expressions\n"
   ]
  },
  {
   "cell_type": "markdown",
   "id": "60f386b4-e663-41c8-a79a-95eb91a9ffee",
   "metadata": {},
   "source": [
    "Some of the popular languages that Data Scientists use are:\n",
    "1. python\n",
    "2. R\n",
    "3. SQL\n",
    "4. C++\n",
    "5. Julia\n",
    "6. PHP\n",
    "7. Java\n"
   ]
  },
  {
   "cell_type": "markdown",
   "id": "5baf4160-c306-4a8f-9557-e75e4a3d573b",
   "metadata": {},
   "source": [
    "Some of the commonly used libraries used by Data Scientists include:\n",
    "1. Pandas\n",
    "2. NumPy\n",
    "3. MatPlotlib\n",
    "4. Seaborn\n",
    "5. Scikitlearn\n",
    "6. Keras\n",
    "7. Tensorflow\n",
    "\n"
   ]
  },
  {
   "cell_type": "markdown",
   "id": "0b5945a6-3e0b-440e-add1-2e342d81c072",
   "metadata": {},
   "source": [
    "| Data Science Tools |\n",
    "----------------------\n",
    "| RStudio            |\n",
    "| Jupyter Notebook   |\n",
    "| Spyder             |"
   ]
  },
  {
   "cell_type": "markdown",
   "id": "22113280-3344-4528-8550-4a8a8828ced8",
   "metadata": {},
   "source": [
    "### Below are a few examples of evaluating arithmetic expressions in Python."
   ]
  },
  {
   "cell_type": "code",
   "execution_count": 3,
   "id": "70344ffb-f412-4ab3-9ca6-db86aed70790",
   "metadata": {
    "tags": []
   },
   "outputs": [
    {
     "name": "stdout",
     "output_type": "stream",
     "text": [
      "x = 17\n"
     ]
    }
   ],
   "source": [
    "# This a simple arithmetic expression to mutiply then add integers.\n",
    "x = (3*4)+5\n",
    "print('x =', x)"
   ]
  },
  {
   "cell_type": "code",
   "execution_count": 4,
   "id": "f26c6387-598c-4b1b-81db-8962efd17269",
   "metadata": {
    "tags": []
   },
   "outputs": [
    {
     "name": "stdout",
     "output_type": "stream",
     "text": [
      "After conversion total hours are 3.3333333333333335\n"
     ]
    }
   ],
   "source": [
    "# This will convert 200 minutes to hours by dividing by 60.\n",
    "minutes = 200\n",
    "hours = minutes / 60\n",
    "print('After conversion total hours are', hours)"
   ]
  },
  {
   "cell_type": "code",
   "execution_count": null,
   "id": "57d11baa-5a43-4517-8666-0d325cf85ea9",
   "metadata": {},
   "outputs": [],
   "source": []
  }
 ],
 "metadata": {
  "kernelspec": {
   "display_name": "Python",
   "language": "python",
   "name": "conda-env-python-py"
  },
  "language_info": {
   "codemirror_mode": {
    "name": "ipython",
    "version": 3
   },
   "file_extension": ".py",
   "mimetype": "text/x-python",
   "name": "python",
   "nbconvert_exporter": "python",
   "pygments_lexer": "ipython3",
   "version": "3.7.12"
  }
 },
 "nbformat": 4,
 "nbformat_minor": 5
}
